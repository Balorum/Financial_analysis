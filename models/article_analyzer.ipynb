{
 "cells": [
  {
   "cell_type": "code",
   "id": "initial_id",
   "metadata": {
    "collapsed": true,
    "ExecuteTime": {
     "end_time": "2024-07-21T13:00:22.001772Z",
     "start_time": "2024-07-21T13:00:21.993765Z"
    }
   },
   "source": [
    "from transformers import pipeline\n",
    "import nltk\n",
    "import pandas as pd\n",
    "import numpy as np\n",
    "import os\n",
    "\n",
    "nltk.download('vader_lexicon')\n",
    "from nltk.sentiment.vader import SentimentIntensityAnalyzer"
   ],
   "outputs": [
    {
     "name": "stderr",
     "output_type": "stream",
     "text": [
      "[nltk_data] Downloading package vader_lexicon to\n",
      "[nltk_data]     C:\\Users\\remes\\AppData\\Roaming\\nltk_data...\n",
      "[nltk_data]   Package vader_lexicon is already up-to-date!\n"
     ]
    }
   ],
   "execution_count": 5
  },
  {
   "metadata": {
    "ExecuteTime": {
     "end_time": "2024-07-21T13:00:26.737112Z",
     "start_time": "2024-07-21T13:00:24.513089Z"
    }
   },
   "cell_type": "code",
   "source": [
    "summarizer = pipeline(\"summarization\", truncation=True)\n",
    "analyzer = SentimentIntensityAnalyzer()"
   ],
   "id": "cf281db8ec130ee6",
   "outputs": [
    {
     "name": "stderr",
     "output_type": "stream",
     "text": [
      "No model was supplied, defaulted to sshleifer/distilbart-cnn-12-6 and revision a4f8f3e (https://huggingface.co/sshleifer/distilbart-cnn-12-6).\n",
      "Using a pipeline without specifying a model name and revision in production is not recommended.\n"
     ]
    }
   ],
   "execution_count": 6
  },
  {
   "metadata": {
    "ExecuteTime": {
     "end_time": "2024-07-21T13:00:28.650444Z",
     "start_time": "2024-07-21T13:00:28.639737Z"
    }
   },
   "cell_type": "code",
   "source": [
    "def analyze_sentiment(text):\n",
    "    sentiment = analyzer.polarity_scores(text)\n",
    "    return sentiment\n",
    "\n",
    "\n",
    "def article_summarizer(article):\n",
    "    summary = summarizer(article, max_length=300, min_length=100, do_sample=False)\n",
    "    \n",
    "    return summary[0]['summary_text']\n",
    "\n",
    "def get_companies_names():\n",
    "    db = next(get_db())\n",
    "    try:\n",
    "        stocks = db.query(Stock.title).all()\n",
    "        return stocks\n",
    "    finally:\n",
    "        db.close()"
   ],
   "id": "fa9d259113c36873",
   "outputs": [],
   "execution_count": 7
  },
  {
   "metadata": {
    "ExecuteTime": {
     "end_time": "2024-07-21T13:12:37.756566Z",
     "start_time": "2024-07-21T13:11:48.948460Z"
    }
   },
   "cell_type": "code",
   "source": [
    "articles_marks = []\n",
    "companies_names = list((i[0] for i in get_companies_names()))\n",
    "\n",
    "for root, dirs, files in os.walk(os.getcwd() + \"/data/stocks\"):\n",
    "    for dir_name, company_name in zip(dirs, companies_names):\n",
    "        folder_path = os.path.join(root, dir_name)\n",
    "        pos_mark = 0\n",
    "        neg_mark = 0\n",
    "        for filename in os.listdir(folder_path):\n",
    "            file_path = os.path.join(folder_path, filename)\n",
    "            article_file = open(file_path, 'r', encoding=\"utf-8\")\n",
    "            article_text = article_file.read()\n",
    "            sum_article = article_summarizer(article_text)\n",
    "            analyze = analyze_sentiment(sum_article)\n",
    "            if analyze['pos'] > analyze['neg']:\n",
    "                pos_mark += 1\n",
    "            else:\n",
    "                neg_mark += 1\n",
    "        articles_marks.append({'stock': company_name, 'positives': pos_mark, 'negatives': neg_mark})\n",
    "        break\n",
    "articles_df = pd.DataFrame(articles_marks, columns=['stock', 'positives', 'negatives'])\n",
    "print(articles_df)"
   ],
   "id": "b75195ce5d61f6cc",
   "outputs": [
    {
     "name": "stdout",
     "output_type": "stream",
     "text": [
      "       stock  positives  negatives\n",
      "0  Microsoft          2          4\n"
     ]
    }
   ],
   "execution_count": 23
  },
  {
   "metadata": {
    "ExecuteTime": {
     "end_time": "2024-07-21T13:17:03.527237Z",
     "start_time": "2024-07-21T13:17:03.510792Z"
    }
   },
   "cell_type": "code",
   "source": [
    "from sqlalchemy import text\n",
    "from database.models import Stock, StockSentiment\n",
    "from database.db import get_db\n",
    "\n",
    "def add_to_db(df):\n",
    "    db = next(get_db())\n",
    "    try:\n",
    "        db.query(StockSentiment).delete()\n",
    "        db.commit()\n",
    "\n",
    "        db.execute(text(\"ALTER SEQUENCE stock_sentiments_id_seq RESTART WITH 1\"))\n",
    "        db.commit()\n",
    "        \n",
    "        print(\"Updating stock sentiments...\")\n",
    "\n",
    "        stock_sentiments = []\n",
    "        for index, row in df.iterrows():\n",
    "            stock = db.query(Stock).filter_by(title=row['stock']).first()\n",
    "            if stock:\n",
    "                stock_sentiment = StockSentiment(\n",
    "                    stock_id=stock.id,\n",
    "                    positives=row['positives'],\n",
    "                    negatives=row['negatives']\n",
    "                )\n",
    "                stock_sentiments.append(stock_sentiment)\n",
    "            else:\n",
    "                print(f\"Stock '{row['stock']}' not found in the Stock table\")\n",
    "\n",
    "        db.bulk_save_objects(stock_sentiments)\n",
    "        db.commit()\n",
    "\n",
    "        print(\"Stock sentiments updated successfully.\")\n",
    "    except Exception as e:\n",
    "        db.rollback()\n",
    "        print(f\"Failed to update stock sentiments: {e}\")\n",
    "    finally:\n",
    "        db.close()"
   ],
   "id": "19e1d2d3feaa16ae",
   "outputs": [],
   "execution_count": 28
  },
  {
   "metadata": {
    "ExecuteTime": {
     "end_time": "2024-07-21T13:17:20.750120Z",
     "start_time": "2024-07-21T13:17:20.639794Z"
    }
   },
   "cell_type": "code",
   "source": "add_to_db(articles_df)",
   "id": "f46207ea934289f7",
   "outputs": [
    {
     "name": "stdout",
     "output_type": "stream",
     "text": [
      "Updating stock sentiments...\n",
      "Stock sentiments updated successfully.\n"
     ]
    }
   ],
   "execution_count": 29
  },
  {
   "metadata": {},
   "cell_type": "code",
   "outputs": [],
   "execution_count": null,
   "source": "",
   "id": "756c9d3b299ea5b6"
  }
 ],
 "metadata": {
  "kernelspec": {
   "display_name": "Python 3",
   "language": "python",
   "name": "python3"
  },
  "language_info": {
   "codemirror_mode": {
    "name": "ipython",
    "version": 2
   },
   "file_extension": ".py",
   "mimetype": "text/x-python",
   "name": "python",
   "nbconvert_exporter": "python",
   "pygments_lexer": "ipython2",
   "version": "2.7.6"
  }
 },
 "nbformat": 4,
 "nbformat_minor": 5
}
