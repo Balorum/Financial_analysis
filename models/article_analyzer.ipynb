{
 "cells": [
  {
   "cell_type": "code",
   "id": "initial_id",
   "metadata": {
    "collapsed": true,
    "ExecuteTime": {
     "end_time": "2024-07-22T17:15:54.711176Z",
     "start_time": "2024-07-22T17:15:54.696646Z"
    }
   },
   "source": [
    "from transformers import pipeline\n",
    "import nltk\n",
    "import pandas as pd\n",
    "import numpy as np\n",
    "import os\n",
    "import re\n",
    "\n",
    "from nltk.corpus import stopwords\n",
    "nltk.download('vader_lexicon')\n",
    "nltk.download('punkt')\n",
    "nltk.download('stopwords')\n",
    "\n",
    "from nltk.sentiment.vader import SentimentIntensityAnalyzer\n",
    "from nltk.sentiment import SentimentAnalyzer"
   ],
   "outputs": [
    {
     "name": "stderr",
     "output_type": "stream",
     "text": [
      "[nltk_data] Downloading package vader_lexicon to\n",
      "[nltk_data]     C:\\Users\\remes\\AppData\\Roaming\\nltk_data...\n",
      "[nltk_data]   Package vader_lexicon is already up-to-date!\n",
      "[nltk_data] Downloading package punkt to\n",
      "[nltk_data]     C:\\Users\\remes\\AppData\\Roaming\\nltk_data...\n",
      "[nltk_data]   Package punkt is already up-to-date!\n",
      "[nltk_data] Downloading package stopwords to\n",
      "[nltk_data]     C:\\Users\\remes\\AppData\\Roaming\\nltk_data...\n",
      "[nltk_data]   Package stopwords is already up-to-date!\n"
     ]
    }
   ],
   "execution_count": 28
  },
  {
   "metadata": {
    "ExecuteTime": {
     "end_time": "2024-07-22T17:16:08.240254Z",
     "start_time": "2024-07-22T17:16:05.011601Z"
    }
   },
   "cell_type": "code",
   "source": [
    "summarizer = pipeline(\"summarization\", truncation=True)\n",
    "analyzer = SentimentIntensityAnalyzer()\n",
    "token_analyzer = SentimentAnalyzer()"
   ],
   "id": "cf281db8ec130ee6",
   "outputs": [
    {
     "name": "stderr",
     "output_type": "stream",
     "text": [
      "No model was supplied, defaulted to sshleifer/distilbart-cnn-12-6 and revision a4f8f3e (https://huggingface.co/sshleifer/distilbart-cnn-12-6).\n",
      "Using a pipeline without specifying a model name and revision in production is not recommended.\n"
     ]
    }
   ],
   "execution_count": 29
  },
  {
   "metadata": {
    "ExecuteTime": {
     "end_time": "2024-07-22T14:20:29.079646Z",
     "start_time": "2024-07-22T14:20:29.065885Z"
    }
   },
   "cell_type": "code",
   "source": [
    "def analyze_sentiment(text):\n",
    "    sentiment = analyzer.polarity_scores(text)\n",
    "    return sentiment\n",
    "\n",
    "\n",
    "def article_summarizer(article):\n",
    "    summary = summarizer(article, max_length=300, min_length=100, do_sample=False)\n",
    "    \n",
    "    return summary[0]['summary_text']\n",
    "\n",
    "def get_companies_names():\n",
    "    db = next(get_db())\n",
    "    try:\n",
    "        stocks = db.query(Stock.title).all()\n",
    "        return stocks\n",
    "    finally:\n",
    "        db.close()"
   ],
   "id": "fa9d259113c36873",
   "outputs": [],
   "execution_count": 3
  },
  {
   "metadata": {},
   "cell_type": "markdown",
   "source": [
    "___Basic version of the algorithm___\n",
    "\n",
    "Analyzes pre-processed text. Processing includes: removing advertisements, removing unnecessary abbreviations and abbreviations, repeating the same thing."
   ],
   "id": "314846d7fd58ab58"
  },
  {
   "metadata": {
    "ExecuteTime": {
     "end_time": "2024-07-21T13:12:37.756566Z",
     "start_time": "2024-07-21T13:11:48.948460Z"
    }
   },
   "cell_type": "code",
   "source": [
    "articles_marks = []\n",
    "companies_names = list((i[0] for i in get_companies_names()))\n",
    "\n",
    "for root, dirs, files in os.walk(os.getcwd() + \"/data/stocks\"):\n",
    "    for dir_name, company_name in zip(dirs, companies_names):\n",
    "        folder_path = os.path.join(root, dir_name)\n",
    "        pos_mark = 0\n",
    "        neg_mark = 0\n",
    "        for filename in os.listdir(folder_path):\n",
    "            file_path = os.path.join(folder_path, filename)\n",
    "            article_file = open(file_path, 'r', encoding=\"utf-8\")\n",
    "            article_text = article_file.read()\n",
    "            sum_article = article_summarizer(article_text)\n",
    "            analyze = analyze_sentiment(sum_article)\n",
    "            if analyze['pos'] > analyze['neg']:\n",
    "                pos_mark += 1\n",
    "            else:\n",
    "                neg_mark += 1\n",
    "        articles_marks.append({'stock': company_name, 'positives': pos_mark, 'negatives': neg_mark})\n",
    "        break\n",
    "base_articles_df = pd.DataFrame(articles_marks, columns=['stock', 'positives', 'negatives'])\n",
    "print(base_articles_df)"
   ],
   "id": "b75195ce5d61f6cc",
   "outputs": [
    {
     "name": "stdout",
     "output_type": "stream",
     "text": [
      "       stock  positives  negatives\n",
      "0  Microsoft          2          4\n"
     ]
    }
   ],
   "execution_count": 23
  },
  {
   "metadata": {},
   "cell_type": "markdown",
   "source": "__Adding news sentiment scores for each stock to the database.__",
   "id": "57bee4e452609290"
  },
  {
   "metadata": {
    "ExecuteTime": {
     "end_time": "2024-07-22T14:20:56.858822Z",
     "start_time": "2024-07-22T14:20:56.618574Z"
    }
   },
   "cell_type": "code",
   "source": [
    "from sqlalchemy import text\n",
    "from database.models import Stock, StockSentiment\n",
    "from database.db import get_db\n",
    "\n",
    "def add_to_db(df):\n",
    "    db = next(get_db())\n",
    "    try:\n",
    "        db.query(StockSentiment).delete()\n",
    "        db.commit()\n",
    "\n",
    "        db.execute(text(\"ALTER SEQUENCE stock_sentiments_id_seq RESTART WITH 1\"))\n",
    "        db.commit()\n",
    "        \n",
    "        print(\"Updating stock sentiments...\")\n",
    "\n",
    "        stock_sentiments = []\n",
    "        for index, row in df.iterrows():\n",
    "            stock = db.query(Stock).filter_by(title=row['stock']).first()\n",
    "            if stock:\n",
    "                stock_sentiment = StockSentiment(\n",
    "                    stock_id=stock.id,\n",
    "                    positives=row['positives'],\n",
    "                    negatives=row['negatives']\n",
    "                )\n",
    "                stock_sentiments.append(stock_sentiment)\n",
    "            else:\n",
    "                print(f\"Stock '{row['stock']}' not found in the Stock table\")\n",
    "\n",
    "        db.bulk_save_objects(stock_sentiments)\n",
    "        db.commit()\n",
    "\n",
    "        print(\"Stock sentiments updated successfully.\")\n",
    "    except Exception as e:\n",
    "        db.rollback()\n",
    "        print(f\"Failed to update stock sentiments: {e}\")\n",
    "    finally:\n",
    "        db.close()"
   ],
   "id": "19e1d2d3feaa16ae",
   "outputs": [],
   "execution_count": 5
  },
  {
   "metadata": {
    "ExecuteTime": {
     "end_time": "2024-07-21T13:17:20.750120Z",
     "start_time": "2024-07-21T13:17:20.639794Z"
    }
   },
   "cell_type": "code",
   "source": "add_to_db(base_articles_df)",
   "id": "f46207ea934289f7",
   "outputs": [
    {
     "name": "stdout",
     "output_type": "stream",
     "text": [
      "Updating stock sentiments...\n",
      "Stock sentiments updated successfully.\n"
     ]
    }
   ],
   "execution_count": 29
  },
  {
   "metadata": {},
   "cell_type": "markdown",
   "source": "The second version of the algorithm using tokenization.",
   "id": "75d2015e2b80fcdb"
  },
  {
   "metadata": {
    "ExecuteTime": {
     "end_time": "2024-07-22T18:05:28.446751Z",
     "start_time": "2024-07-22T18:05:28.386396Z"
    }
   },
   "cell_type": "code",
   "source": [
    "articles_marks = []\n",
    "companies_names = list((i[0] for i in get_companies_names()))\n",
    "stop_words = set(stopwords.words(\"english\"))\n",
    "articles_list = []\n",
    "\n",
    "def delete_punctuation(article):\n",
    "    pattern = r'[^\\w\\s]'\n",
    "    article = re.sub(pattern,'',article)\n",
    "    return article\n",
    "\n",
    "\n",
    "def sentence_tokenization(sentence):\n",
    "    article_word_list = nltk.tokenize.word_tokenize(sentence)\n",
    "    return article_word_list\n",
    "\n",
    "\n",
    "def article_tokenization(article):\n",
    "    sentences = nltk.tokenize.sent_tokenize(article)\n",
    "    return sentences\n",
    "\n",
    "\n",
    "def delete_stop_words(article_list):\n",
    "    global stop_words\n",
    "    processed_article = [word for word in article_list if word.lower() not in stop_words]\n",
    "    return processed_article\n",
    "\n",
    "\n",
    "def analyze_tokenized_sentiment(tokenized_article):\n",
    "    sentiment_scores = [token_analyzer.all_words(word) for word in tokenized_article if word.isalpha()]\n",
    "    return sentiment_scores\n",
    "\n",
    "for root, dirs, files in os.walk(os.getcwd() + \"/data/stocks\"):\n",
    "    for dir_name, company_name in zip(dirs, companies_names):\n",
    "        folder_path = os.path.join(root, dir_name)\n",
    "        pos_mark = 0\n",
    "        neg_mark = 0\n",
    "        articles_list = []\n",
    "        for filename in os.listdir(folder_path):\n",
    "            words_list = []\n",
    "            sentences_list = []\n",
    "            file_path = os.path.join(folder_path, filename)\n",
    "            article_file = open(file_path, 'r', encoding=\"utf-8\")\n",
    "            article_text = article_file.read()\n",
    "            article = re.sub(r'\\.(?!\\s)', '. ', article_text)\n",
    "            sentences = article_tokenization(article_text)\n",
    "            for sentence in sentences:\n",
    "                sentence = delete_punctuation(sentence)\n",
    "                tokenized_sentence = sentence_tokenization(sentence)\n",
    "                without_base_sw = delete_stop_words(tokenized_sentence)\n",
    "                words_list.append(without_base_sw)\n",
    "            for word_list in words_list:\n",
    "                sentence = ' '.join(word_list)\n",
    "                \n",
    "                sentence = sentence.capitalize()\n",
    "                \n",
    "                sentence = re.sub(r'([.!?])(\\w)', r'\\1 \\2', sentence)\n",
    "                sentences_list.append(sentence)\n",
    "            articles_list.append(sentences_list)\n",
    "            # if analyze['pos'] > analyze['neg']:\n",
    "            #     pos_mark += 1\n",
    "            # else:\n",
    "            #     neg_mark += 1\n",
    "        articles_marks.append({'stock': company_name, 'positives': pos_mark, 'negatives': neg_mark})\n",
    "        break\n",
    "print(articles_list)"
   ],
   "id": "756c9d3b299ea5b6",
   "outputs": [
    {
     "name": "stdout",
     "output_type": "stream",
     "text": [
      "[['Alibaba shares trading nearly 75 alltime highsalibaba walked back plans split company six standalone businessesalibaba stock trades 1144x forward earnings 10year historical pe 31as dominant ecommerce giant alibaba group holding nysebaba often considered amazon china', 'Sales thirdlargest ecommerce giant worldwith shares trading 36 yeartodate ytd also considerably underperforming nasdaq100 index 208 ytd', 'Shares trading nearly 75 alltime highs computer technology sector leader stock plenty room rebound', 'Four reasons alibaba stock may steal valuationsin 2023 alibaba announced would split business six separate entities enhance shareholder value', 'Several entities would standalone publicly traded companies shareholders would get piece new companies', 'Initially sent shares 10505 march 27 2023', 'However alibaba walk back many plansin november company squashed plans spin cloud divisions due uncertainties regarding us chip export restrictions', 'Instead company would focus growing cloud intelligence group comprised artificial intelligence ai units alibaba cloud inhouseit also scrapped plans spin cainiao logistics business', 'Ipos freshippo sun art intime dingtalk delayed', 'Fact creator spinoff blueprint chairman ceo daniel zhang left alibabathe parts still make whole', 'Leaves potential future spinoffs current ceo cofounder eddie wualibaba reported q2 eps 140 missing consensus estimates 2 cents', 'Revenues rose 366 yoy 3067 billion beating consensus estimates 2567 millionthe company generated nongaap net income 3382 billion', 'Alibaba generated 323 billion net cash operating activities free cash flow 212 billion', 'Current cash ratio 44 indicating 2 3x undervaluationbaba stock trading 1857 pricetoearnings pe market capitalization 20211 billion', 'Forward pe 1144', 'Pricesales 155 pricebook 132the stock also provides 132 annual dividend yield', 'According marketbeats consensus price target 10879 3658 upside sharesof 16 analyst ratings 13 rate stock buy three rate hold', 'Alibabas 10year historic pe around 31alibaba forefront ai revolution china', 'Large language model llm qwen25 powered tongyi qianwen model unveiled 90000 deployments meet rising demand generative ai genaiit upgrade previous qwen20', 'Upgraded model made notable advancements code comprehension reasoning textual understandingover 22 million corporate users access alibabas qwenpowered ai service dingtalk collaboration platform', 'Alibaba also integrating ai tools better assist foreign merchants content creation translation product returns aliexpress lazada online marketplacesthese marketplaces accommodate 300 million consumers 1 million global merchants annually alibaba international digital commerce groupthe daily candlestick chart baba illustrates higher swing lows made deep pullbacks forming symmetrical triangle', 'First recent swing low 6663 january 22 2024shares bounced 7824 peak returning higher swing low 6836 april 19 2024', 'Baba shares shot 9046 may 17 2024 pulling back higher low 7180the descending trendline formed 10250 july 31 2024 formed lower swing high 9046 may 14 2024', 'Daily relative strength index rsi also formed divergence bottom climbing 61bandpullback support levels rising 7656 7350 7180 6836original postwith valuations skyrocketing 2024 many investors uneasy putting money stocks', 'Unsure invest next', 'Get access proven portfolios discover highpotential opportunities', '2024 alone propicks ai identified 2 stocks surged 150 4 additional stocks leaped 30 3 climbed 25', 'Thats impressive track record', 'Portfolios tailored dow stocks sp stocks tech stocks mid cap stocks explore various wealthbuilding strategies'], ['Liangping gao marius zahariabeijinghong kong reuters beijing ordered chinese cities buy newlycompleted apartments turn affordable housing first steps took unveil plans broaden eligibility subsidies fix economic headaches processchinese leaders issued directive may aiming alleviate protracted property crisis led bloated inventories unsold apartments crippled developers cash flows weighed heavily home prices consumer confidence economic activitythe property downturn sluggish consumer demand pulled growth forecasts second quartersome analysts saw authorities new approach social housing rare consumeroriented move china promises transfer resources local governments households many long called means boost domestic demandbut analysis public statements 20 chinese cities shows local officials thinking bigger thatmost distributed questionnaires doctors teachers groups beyond usual lowincome demographic targets gauge demand subsidised rents apartment purchases', 'Called migrant factory workers rural areas even scientific researchers express interesteconomists say announcements show cities seizing new housing policy ways try address brain drain net population outflows megacities shanghai shenzhen', 'Easing labour shortages factories strengthening healthcare education could help reduce economic social pressures smaller population centres boosting activity broadening tax base', 'Smaller cities motivated develop affordable housing hwabao trust economist nie wen said', 'Affordable rents attract migrant workers reduce net outflow people', 'Affordable housing also sold police doctors teachers help retain talent', 'Cities across china started release statements efforts implement may directive details targeted population groups emerging first time', 'Ten 20 statements reviewed reuters announced surveys medical staff teachers public sector employees', 'Eastern cities yantai longkou also said migrant workers eligible buy rent affordable homeshangzhou jinhua wealthier zhejiang province want scientists', 'Tangshan hebei province near beijing offers housing new citizens people younger 35', 'Kunming southwest targeting unspecified talent groups city needs said statementduan heavily indebted poorer guangxi region offers discounted apartments families dont housing whose percapita home area 15 square metres', 'Analysts expect surveys return strong interest', 'Many wouldbe renters buyers might change minds apartments authorities purchase scheme poor condition inconvenient locations', 'Dont know yet quality apartments said hong senior analyst gddce research institution', 'Poorbeijing facilitating 500 billion yuan 69 billion funding scheme nationwide many analysts expect increase funding futurefew cities indicated size planned subsidiesyantai longkou offer monthly rent discounts 400 yuan university graduates 300 yuan others', '50 yuan applies additional household member', 'Amounts subsidies least 20 cities according yantai daily online rental platform', 'Hangzhou home tech giant alibaba nysebaba group says renting 50 square metre 538 square feet apartment would cost around 500 yuan per month', 'Residents southwestern city leshan southern city yongzhou returned official forms indicated flats 110 sqm could bought twothirds market price', 'Leshan would reduce prices around 100000 yuan allowing teacher emma xu earns 4300 yuan monthly finally afford home', 'Monthly mortgage payments would 1000 yuan current rentshes looking forward saving rainy days instead apartment', 'Im poor said 24yearold', 'Im countryside live teachers dormitory im paying back student loan im supporting parents', 'Havent managed save money', 'Consumption goalsto facilitate household consumption longer term scheme would need scaled complemented reforms analysts saymoodys nysemco analytics economist harry murphy cruise estimates existing affordable housing accounts 5 total housing stock chinaboosting 2030 would massive benefit many chinese household consumption macro level would require 3 4 trillion yuan financing said', 'China desperately needs rebalance economy said', 'Needs household spending really drive growth sustainably future', 'Affordable housing isnt silver bullet certainly key pillar strategy', 'Welfare reforms people like xu worry less ageing parents also would go long way', 'Households may save less deem set aside much money expensive housing said louise loo china economist oxford economics', 'Said savings function china depends also structural elements place solid wage growth adequate expected pension payouts', '1 72685 chinese yuan renminbi valuations skyrocketing 2024 many investors uneasy putting money stocks', 'Sure always opportunities stock market finding feels difficult year ago', 'Unsure invest next', 'One best ways discover new highpotential opportunities look top performing portfolios year', 'Investingcoms propicks 6 model portfolios identify best stocks investors buy right', 'Example propicks found 9 overlooked stocks jumped 25 year alone', 'New stocks made monthly cut could yield enormous returns coming years', 'Baba one'], ['Hong kong reuters attempted assassination donald trump spawned frenzy online merchandise featuring picture us presidential candidate shot slogans bulletproof legends never die grazed dazed shooting makes stronger', 'Prices ranging anywhere around 9 40 tshirts emblazoned images trump pumping clenched fist air blood streaks across face gone viralwithin hours shooting businesses independent sellers scrambled create slogans merchandise mostly depicting republican presidential candidate defiant become latest long line trump products', 'Sales exceeded expectations', 'Didnt expect trump would many fans said zhong jiachi 28 owner paxinico clothing merchant douyin chinese version tiktok sold around 40 tshirts image trump shot within 24 hours', 'Li jinwei 25 sells goods alibaba nysebabas taobao platform told hong kong media took roughly half minute produce trump tshirt factory china', 'Put tshirts taobao soon saw news shooting though hadnt even printed within three hours saw 2000 orders china united states saidthe look trump glaring camera appears much previous merchandise features echoes trademark pose apprentice reality television show starred several yearsin 2023 mughost trump quickly turned tshirts shot glasses mugs posters even bobblehead dolls friends foes alike', 'Saturday supporters campaigners quickly embraced image trump taken 20yearold man shot rooftop rally around ahead us presidential election november', 'Former us president holding campaign rally butler pennsylvania key state nov 5 election shots rang hitting right ear leaving bloodied', 'Investingcoms propicks 6 model portfolios identify best stocks investors buy', 'Stocks made cut could produce monster returns coming years', 'Baba one'], ['Sophie yu casey hallbeijing reuters chinese ecommerce vendors struggling survival sales growth slows price pressure rises shopping platforms compete evermore aggressive policies attract increasingly costconscious customersa oncethriving ecommerce industry punctuated shopping bonanzas featuring galas celebrities bearing brunt sputtering economy seen consumers tie knots purse stringswhile extreme discounting influencerled sales campaigns generous returns policies much enrich sector practices vendors abide hurting upon sector rests', 'Good times ecommerce said shanghaibased ecommerce operator lu zhenwang sells everyday items small vendors', 'Year fierce competition dont think lot sellers survive another three years', 'Profit margins squeezed big platforms alibaba nysebaba jd nasdaqjdcom also thousands small businesses joined ecommerce boom decade started around 2013that boom left ecommerce accounting 27 retail 12 trillion yuan 165 trillion goods sold annuallybut economy slows ecommerce doubledigit growth recent years set replaced single digits showed data euromonitorone outcome enthusiasm participating sales festivals noticeably cooling lu said biggest singles day centred nov 11 risky proposition', 'Idea many products able sell build stock said', 'Almost impossible see explosive growth shopping event', 'Buyer protectionas impact slowdown begins felt vendors raising voices side effects sales gimmicksduring online shopping event 618 stemming jdcoms 18 june founding owner womenswear brand inman called authorities rein platforms purchase return protection policies force sellers bear cost returnssuch policies started pdds lowprice platform pinduoduo nasdaqpdd 2021 proved popular others followed suit huge cost sellers vendors told reuters', 'Return rate ecommerce platforms 60 inman founder fang jianhua wrote social media', 'Policies 30 saidfang said major platforms upon vendors rely use consumer first policies add burden businesses many sell cost maintain high positions search results amid multiple discount eventsecommerce operator lu said return protection policies caused return rates soar categories apparelthough apparel return rates always relatively high jumped since requirement buyers pay postage returning goods scrapped sellers said', 'Every three pieces clothes sell least two pieces returned pay twoway courier cost lu saidpinduoduo jdcom alibabas taobao tmall respond requests commentselling lossdavy huang business development director ecommerce consultancy azoya said consumers increased rate return impulse buys making life tougher small retailers sufficient cash flow bear cost', 'Think return rates fraction challenges businesses facing said', 'Also face high traffic acquisition costs high costs collaborate influencers livestreamers', 'Retailers also feeling impact factories selling directly consumers factory prices', 'Consequently vendors pinduoduo running loss two years said heling shi economics professor monash university melbourne', 'Dont much hope prices eventually enough cover costs keep selling via pinduoduo otherwise basically close factories shi saidlu said operating environment poor peaking ecommerce created known chinese neijuan effect working harder smaller returns', 'Growth sales new customers average income people rising like 10 years ago lu said', 'Competition platforms sellers', 'New normal ecommerce industry china', '1 72709 chinese yuan renminbi feeling overwhelmed investment information', 'Youre alone', '2024 stock market often feels like rollercoaster conflicting analysis opinions everywhere go', 'Cut noise deliver actionable insights', 'Get bottom line instantly stocks fair value', 'Spot winners drop losers protect gains'], ['Yantoultra nguisingapore reuters singapore state investor temasek said tuesday net portfolio value swung back growth 18 gain adding profits investments united states india helped cushion impact underperformance chinasignificantly temaseks exposure americas surpassed china first time decade accounting 22 portfolio versus chinas 19 year ended march', 'Temasek said taking cautious approach china would continue monitor countrys government policies year', 'Aside singapore biggest market accounting 27 portfolio us would continue leading destination capital followed india europethe firm added plans step investments japan southeast asia', 'Temasek also considering building presence middle east deputy ceo chia song hwee told reuters interview', 'Economies middle east going transformation opening also policy directions investor friendly well marketdriven said', 'Clearly seeing change beginning spend time looking opportunities evaluating', 'Rise value temaseks portfolio s389 billion 2885 billion compares last years 52 drop marked first decline since 2020 amid global economic uncertainties higher interest rate environmentchia said firm would continue reshape portfolio', 'Includes china geopolitical tensions remain concern focusing companies centred domestic market rely less exports said', 'Portfolio never stays static', 'Try reshape portfolio time time futureproof futureready making sure earn longterm sustainable return added', 'Portfolio still large china even 19 still large portfolio us', 'Chinese companies temasek invested include alibaba nysebaba group tencent holdings otctcehy owning stakes less 1', 'Also invested chinese electric vehicle company byd sz002594 latest financial year', 'Size holding disclosedin united states investments include stake around 3 asset manager blackrock nyseblk holdings less 1 credit card payment companies visa nysev mastercard nysemaregardless outcome us election november worlds largest economy continue interesting market temasek due innovation opportunities private credit technology sectors chief financial officer png chin yee said separate interview', 'Temasek continue seek investment opportunities artificial intelligence green transition head financial services connie chan also said', 'May temasek partnered canadas brookfield invest neoen deal valued french renewable power producer around 61 billion euros 66 billionother global investors also posted gains driven betterthanexpected us economy growing expectations lower interest ratesthis month japans government pension investment fund posted investment gain 1333 billion januarymarch quarter saudi arabias sovereign wealth fund pif reported swung profit 368 billion 2023', '1 13484 singapore dollars1 09228 euros buy stock consider investingcoms propicks provides investors 6 easytofollow model portfolios building wealth identifying winners letting run', '130000 paying members trust propicks find new stocks buy driven ai', 'Propicks algorithm identified best stocks investors buy', 'Stocks made cut could produce enormous returns coming years', 'One'], ['Yantoultra ngui selena lisingaporehong kong reuters china international capital corp cicc plans expand presence southeast asia opening offices countries including indonesia malaysia said investment banking head slump deals home hurts prospectsfounded 1995 beijingbased investment bank currently presence seven international financial centers outside mainland china including hong kong new york london singaporestateowned cicc opened representative office vietnam june extending presence southeast asia home several fast growing economiescicc chinas oldest investment bank also one largest badly hit shrinking dealmaking activities mainland hong kong due slowing chinese economy rising geopolitical tensions', 'Cicc looking expand presence southeast asian regional markets next wang shuguang member cicc management committee head investment banking department told reuters', 'Cicc seeing business opportunities countries markets wants presence opening offices get closer local clients help clients grow wang heads 2000 investment bankers cicc addedwang disclose much cicc plans invest many people hire push southeast asia', 'Also mention targets revenue deals regionat main markets china hong kong cicc slashed banker pay considered reduce staffing levels', 'Investment bank also suffered slide profit stock price', 'Investment banks china also similarly hit sparking rush among chinese wall street banks tap business opportunities asia pacific markets', 'Magnet investmentssoutheast asia magnet global investments last years driven regions fast growing economies young digitally savvy population improving infrastructurethus despite gloom chinalinked dealmaking activities countrys outbound investments southeast asian countries rose 27 2023 year earlier according report griffith university', 'Indonesia top recipient 73 billioncicc top chinese technology companies tencent alibaba nysebaba strategic shareholders sees significant opportunities private fundraising local unicorns startups southeast asia wang said firms chinasoutheast asia economic finance forum juneother opportunities include rise crossborder investments chinese companies particularly sectors consumer technology media telecom fintech logistics electric vehicles southeast asia addedreuters reported may cicc may reduce investment banking headcount least 10 year affecting 200 bankers home hong kong offshore staff basedcicc shares tumbled fifth far year falling 23 last year', 'Valuations skyrocketing 2024 many investors uneasy putting money stocks', 'Unsure invest next', 'Get access proven portfolios discover highpotential opportunities']]\n"
     ]
    }
   ],
   "execution_count": 44
  }
 ],
 "metadata": {
  "kernelspec": {
   "display_name": "Python 3",
   "language": "python",
   "name": "python3"
  },
  "language_info": {
   "codemirror_mode": {
    "name": "ipython",
    "version": 2
   },
   "file_extension": ".py",
   "mimetype": "text/x-python",
   "name": "python",
   "nbconvert_exporter": "python",
   "pygments_lexer": "ipython2",
   "version": "2.7.6"
  }
 },
 "nbformat": 4,
 "nbformat_minor": 5
}
